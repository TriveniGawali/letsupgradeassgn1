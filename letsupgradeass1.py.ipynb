{
 "cells": [
  {
   "cell_type": "markdown",
   "id": "40a3367c",
   "metadata": {},
   "source": [
    "#Question 1\n",
    "Write the definition of tuple with a proper example.\n",
    "\n",
    "Ans - Tuple is ordered collection of items which can not be change once inserted. It is immutable. \n",
    "      eg : t = (1,2,3,4,5,6)\n",
    "      real time example: 1) its like XOXO game. once we inserted our symbol we can not replace or delete it. "
   ]
  },
  {
   "cell_type": "markdown",
   "id": "ea559cf1",
   "metadata": {},
   "source": [
    "#Question 2\n",
    "Write the code for implementing sub dictionary inside dictionary"
   ]
  },
  {
   "cell_type": "code",
   "execution_count": 19,
   "id": "4db7947e",
   "metadata": {},
   "outputs": [],
   "source": [
    "dic = {1 : \"Monday\", 2 : \"Tuesday\", 3 : \"Wednesday\", 4 : \"thursday\", 5: \"friday\", 6 : { 'h1' : \"saturday\", 'h2' : \"sunday\"}}\n"
   ]
  },
  {
   "cell_type": "code",
   "execution_count": 21,
   "id": "5a2c4392",
   "metadata": {},
   "outputs": [
    {
     "data": {
      "text/plain": [
       "'saturday'"
      ]
     },
     "execution_count": 21,
     "metadata": {},
     "output_type": "execute_result"
    }
   ],
   "source": [
    "dic[6]['h1']"
   ]
  }
 ],
 "metadata": {
  "kernelspec": {
   "display_name": "Python 3",
   "language": "python",
   "name": "python3"
  },
  "language_info": {
   "codemirror_mode": {
    "name": "ipython",
    "version": 3
   },
   "file_extension": ".py",
   "mimetype": "text/x-python",
   "name": "python",
   "nbconvert_exporter": "python",
   "pygments_lexer": "ipython3",
   "version": "3.9.2"
  }
 },
 "nbformat": 4,
 "nbformat_minor": 5
}
